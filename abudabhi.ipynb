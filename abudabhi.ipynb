{
 "cells": [
  {
   "cell_type": "code",
   "execution_count": 1,
   "id": "ba02dd6a",
   "metadata": {},
   "outputs": [
    {
     "name": "stderr",
     "output_type": "stream",
     "text": [
      "font_manager       INFO \tgenerated new fontManager\n"
     ]
    }
   ],
   "source": [
    "import fastf1 as ff1\n",
    "from fastf1 import plotting\n",
    "from matplotlib import pyplot as plt\n",
    "from matplotlib.pyplot import figure\n",
    "from matplotlib.collections import LineCollection\n",
    "from matplotlib import cm\n",
    "import numpy as np\n",
    "import pandas as pd"
   ]
  },
  {
   "cell_type": "code",
   "execution_count": 2,
   "id": "32f16f57",
   "metadata": {},
   "outputs": [
    {
     "ename": "NotADirectoryError",
     "evalue": "Cache directory does not exist! Please check for typos or create it first.",
     "output_type": "error",
     "traceback": [
      "\u001b[1;31m---------------------------------------------------------------------------\u001b[0m",
      "\u001b[1;31mNotADirectoryError\u001b[0m                        Traceback (most recent call last)",
      "\u001b[1;32m~\\AppData\\Local\\Temp/ipykernel_4912/2018822257.py\u001b[0m in \u001b[0;36m<module>\u001b[1;34m\u001b[0m\n\u001b[0;32m      1\u001b[0m \u001b[1;31m# Enable the cache\u001b[0m\u001b[1;33m\u001b[0m\u001b[1;33m\u001b[0m\u001b[1;33m\u001b[0m\u001b[0m\n\u001b[1;32m----> 2\u001b[1;33m \u001b[0mff1\u001b[0m\u001b[1;33m.\u001b[0m\u001b[0mCache\u001b[0m\u001b[1;33m.\u001b[0m\u001b[0menable_cache\u001b[0m\u001b[1;33m(\u001b[0m\u001b[1;34m'/cache'\u001b[0m\u001b[1;33m)\u001b[0m\u001b[1;33m\u001b[0m\u001b[1;33m\u001b[0m\u001b[0m\n\u001b[0m\u001b[0;32m      3\u001b[0m \u001b[1;33m\u001b[0m\u001b[0m\n\u001b[0;32m      4\u001b[0m \u001b[1;31m# Setup plotting\u001b[0m\u001b[1;33m\u001b[0m\u001b[1;33m\u001b[0m\u001b[1;33m\u001b[0m\u001b[0m\n\u001b[0;32m      5\u001b[0m \u001b[0mplotting\u001b[0m\u001b[1;33m.\u001b[0m\u001b[0msetup_mpl\u001b[0m\u001b[1;33m(\u001b[0m\u001b[1;33m)\u001b[0m\u001b[1;33m\u001b[0m\u001b[1;33m\u001b[0m\u001b[0m\n",
      "\u001b[1;32mF:\\LUGANO-GIT\\formula1\\venv\\lib\\site-packages\\fastf1\\api.py\u001b[0m in \u001b[0;36menable_cache\u001b[1;34m(cls, cache_dir, ignore_version, force_renew, use_requests_cache)\u001b[0m\n\u001b[0;32m    108\u001b[0m         \"\"\"\n\u001b[0;32m    109\u001b[0m         \u001b[1;32mif\u001b[0m \u001b[1;32mnot\u001b[0m \u001b[0mos\u001b[0m\u001b[1;33m.\u001b[0m\u001b[0mpath\u001b[0m\u001b[1;33m.\u001b[0m\u001b[0mexists\u001b[0m\u001b[1;33m(\u001b[0m\u001b[0mcache_dir\u001b[0m\u001b[1;33m)\u001b[0m\u001b[1;33m:\u001b[0m\u001b[1;33m\u001b[0m\u001b[1;33m\u001b[0m\u001b[0m\n\u001b[1;32m--> 110\u001b[1;33m             \u001b[1;32mraise\u001b[0m \u001b[0mNotADirectoryError\u001b[0m\u001b[1;33m(\u001b[0m\u001b[1;34m\"Cache directory does not exist! Please check for typos or create it first.\"\u001b[0m\u001b[1;33m)\u001b[0m\u001b[1;33m\u001b[0m\u001b[1;33m\u001b[0m\u001b[0m\n\u001b[0m\u001b[0;32m    111\u001b[0m         \u001b[0mcls\u001b[0m\u001b[1;33m.\u001b[0m\u001b[0m_CACHE_DIR\u001b[0m \u001b[1;33m=\u001b[0m \u001b[0mcache_dir\u001b[0m\u001b[1;33m\u001b[0m\u001b[1;33m\u001b[0m\u001b[0m\n\u001b[0;32m    112\u001b[0m         \u001b[0mcls\u001b[0m\u001b[1;33m.\u001b[0m\u001b[0m_IGNORE_VERSION\u001b[0m \u001b[1;33m=\u001b[0m \u001b[0mignore_version\u001b[0m\u001b[1;33m\u001b[0m\u001b[1;33m\u001b[0m\u001b[0m\n",
      "\u001b[1;31mNotADirectoryError\u001b[0m: Cache directory does not exist! Please check for typos or create it first."
     ]
    }
   ],
   "source": [
    "# Enable the cache\n",
    "ff1.Cache.enable_cache('/cache') \n",
    "\n",
    "# Setup plotting\n",
    "plotting.setup_mpl()"
   ]
  },
  {
   "cell_type": "code",
   "execution_count": 3,
   "id": "5a213779",
   "metadata": {},
   "outputs": [],
   "source": [
    "# Enable the cache\n",
    "ff1.Cache.enable_cache('cache') \n",
    "\n",
    "# Setup plotting\n",
    "plotting.setup_mpl()"
   ]
  },
  {
   "cell_type": "code",
   "execution_count": 27,
   "id": "aea3da30",
   "metadata": {},
   "outputs": [
    {
     "name": "stderr",
     "output_type": "stream",
     "text": [
      "core           INFO \tLoading laps for Abu Dhabi Grand Prix - Race [v2.1.12]\n",
      "api            INFO \tNo cached data found for timing_data. Loading data...\n",
      "api            INFO \tFetching timing data...\n",
      "api            INFO \tParsing timing data...\n",
      "api            INFO \tData has been written to cache!\n",
      "api            INFO \tNo cached data found for timing_app_data. Loading data...\n",
      "api            INFO \tFetching timing app data...\n",
      "api            INFO \tData has been written to cache!\n",
      "core           INFO \tProcessing timing data...\n",
      "api            INFO \tNo cached data found for driver_info. Loading data...\n",
      "api            INFO \tFetching driver list...\n",
      "api            INFO \tData has been written to cache!\n",
      "api            INFO \tNo cached data found for session_status_data. Loading data...\n",
      "api            INFO \tFetching session status data...\n",
      "api            INFO \tData has been written to cache!\n",
      "api            INFO \tNo cached data found for track_status_data. Loading data...\n",
      "api            INFO \tFetching track status data...\n",
      "api            INFO \tData has been written to cache!\n",
      "api            INFO \tNo cached data found for car_data. Loading data...\n",
      "api            INFO \tFetching car data...\n",
      "api            INFO \tParsing car data...\n",
      "api            INFO \tData has been written to cache!\n",
      "api            INFO \tNo cached data found for position_data. Loading data...\n",
      "api            INFO \tFetching position data...\n",
      "api            INFO \tParsing position data...\n",
      "api         WARNING \tDriver 241: Position data is incomplete!\n",
      "api         WARNING \tDriver 242: Position data is incomplete!\n",
      "api         WARNING \tDriver 243: Position data is incomplete!\n",
      "api            INFO \tData has been written to cache!\n",
      "api            INFO \tNo cached data found for weather_data. Loading data...\n",
      "api            INFO \tFetching weather data...\n",
      "api            INFO \tData has been written to cache!\n",
      "core           INFO \tLoaded data for 19 drivers: ['18', '99', '4', '77', '14', '55', '44', '10', '3', '6', '63', '16', '22', '11', '7', '33', '5', '47', '31']\n"
     ]
    }
   ],
   "source": [
    "# Load the session data\n",
    "quali = ff1.get_session(2021, 'Abu Dhabi', 'R')\n",
    "\n",
    "# Get the laps\n",
    "laps = quali.load_laps(with_telemetry=True)"
   ]
  },
  {
   "cell_type": "code",
   "execution_count": 28,
   "id": "50390a3a",
   "metadata": {},
   "outputs": [],
   "source": [
    "# Select the laps from Hamilton and Verstappen\n",
    "laps_ver = laps.pick_driver('VER')\n",
    "laps_ham = laps.pick_driver('HAM')\n",
    "\n",
    "# Get the telemetry data from their fastest lap\n",
    "fastest_ver = laps_ver.pick_fastest().get_telemetry().add_distance()\n",
    "fastest_ham = laps_ham.pick_fastest().get_telemetry().add_distance()\n",
    "\n",
    "# Since the telemetry data does not have a variable that indicates the driver, \n",
    "# we need to create that column\n",
    "fastest_ver['Driver'] = 'VER'\n",
    "fastest_ham['Driver'] = 'HAM'\n",
    "\n",
    "# Merge both lap telemetries so we have everything in one DataFrame\n",
    "telemetry = fastest_ver.append(fastest_ham)\n"
   ]
  },
  {
   "cell_type": "code",
   "execution_count": 29,
   "id": "09f9c111",
   "metadata": {},
   "outputs": [],
   "source": [
    "# We want 25 mini-sectors (this can be adjusted up and down)\n",
    "num_minisectors = 25\n",
    "\n",
    "# Grab the maximum value of distance that is known in the telemetry\n",
    "total_distance = total_distance = max(telemetry['Distance'])\n",
    "\n",
    "# Generate equally sized mini-sectors \n",
    "minisector_length = total_distance / num_minisectors"
   ]
  },
  {
   "cell_type": "code",
   "execution_count": 30,
   "id": "c511b1c1",
   "metadata": {},
   "outputs": [],
   "source": [
    "# Initiate minisector variable, with 0 (meters) as a starting point.\n",
    "minisectors = [0]\n",
    "\n",
    "# Add multiples of minisector_length to the minisectors\n",
    "for i in range(0, (num_minisectors - 1)):\n",
    "    minisectors.append(minisector_length * (i + 1))"
   ]
  },
  {
   "cell_type": "code",
   "execution_count": 31,
   "id": "2f5fec16",
   "metadata": {},
   "outputs": [],
   "source": [
    "telemetry['Minisector'] = telemetry['Distance'].apply(\n",
    "    lambda dist: (\n",
    "        int((dist // minisector_length) + 1)\n",
    "    )\n",
    ")"
   ]
  },
  {
   "cell_type": "code",
   "execution_count": 32,
   "id": "11052a0d",
   "metadata": {},
   "outputs": [],
   "source": [
    "# Calculate avg. speed per driver per mini sector\n",
    "average_speed = telemetry.groupby(['Minisector', 'Driver'])['Speed'].mean().reset_index()"
   ]
  },
  {
   "cell_type": "code",
   "execution_count": 33,
   "id": "03ba8a7b",
   "metadata": {},
   "outputs": [],
   "source": [
    "# Select the driver with the highest average speed\n",
    "fastest_driver = average_speed.loc[average_speed.groupby(['Minisector'])['Speed'].idxmax()]\n",
    "\n",
    "# Get rid of the speed column and rename the driver column\n",
    "fastest_driver = fastest_driver[['Minisector', 'Driver']].rename(columns={'Driver': 'Fastest_driver'})"
   ]
  },
  {
   "cell_type": "code",
   "execution_count": 34,
   "id": "37088874",
   "metadata": {},
   "outputs": [],
   "source": [
    "# Join the fastest driver per minisector with the full telemetry\n",
    "telemetry = telemetry.merge(fastest_driver, on=['Minisector'])\n",
    "\n",
    "# Order the data by distance to make matploblib does not get confused\n",
    "telemetry = telemetry.sort_values(by=['Distance'])\n",
    "\n",
    "# Convert driver name to integer\n",
    "telemetry.loc[telemetry['Fastest_driver'] == 'VER', 'Fastest_driver_int'] = 1\n",
    "telemetry.loc[telemetry['Fastest_driver'] == 'HAM', 'Fastest_driver_int'] = 2"
   ]
  },
  {
   "cell_type": "code",
   "execution_count": 36,
   "id": "0701d5e2",
   "metadata": {},
   "outputs": [
    {
     "data": {
      "image/png": "[encoded data removed]",
      "text/plain": [
       "<Figure size 1296x720 with 2 Axes>"
      ]
     },
     "metadata": {},
     "output_type": "display_data"
    }
   ],
   "source": [
    "x = np.array(telemetry['X'].values)\n",
    "y = np.array(telemetry['Y'].values)\n",
    "\n",
    "points = np.array([x, y]).T.reshape(-1, 1, 2)\n",
    "segments = np.concatenate([points[:-1], points[1:]], axis=1)\n",
    "fastest_driver_array = telemetry['Fastest_driver_int'].to_numpy().astype(float)\n",
    "\n",
    "cmap = cm.get_cmap('winter', 2)\n",
    "lc_comp = LineCollection(segments, norm=plt.Normalize(1, cmap.N+1), cmap=cmap)\n",
    "lc_comp.set_array(fastest_driver_array)\n",
    "lc_comp.set_linewidth(5)\n",
    "\n",
    "plt.rcParams['figure.figsize'] = [18, 10]\n",
    "\n",
    "plt.gca().add_collection(lc_comp)\n",
    "plt.axis('equal')\n",
    "plt.tick_params(labelleft=False, left=False, labelbottom=False, bottom=False)\n",
    "\n",
    "cbar = plt.colorbar(mappable=lc_comp, boundaries=np.arange(1,4))\n",
    "cbar.set_ticks(np.arange(2, 4))\n",
    "cbar.set_ticklabels([\"VER\", \"HAM\"])\n",
    "\n",
    "plt.savefig(f\"2021_ver_ham_q.png\", dpi=300)\n",
    "\n",
    "plt.show()"
   ]
  },
  {
   "cell_type": "code",
   "execution_count": null,
   "id": "0b69d184",
   "metadata": {},
   "outputs": [],
   "source": []
  }
 ],
 "metadata": {
  "kernelspec": {
   "display_name": "Python 3 (ipykernel)",
   "language": "python",
   "name": "python3"
  },
  "language_info": {
   "codemirror_mode": {
    "name": "ipython",
    "version": 3
   },
   "file_extension": ".py",
   "mimetype": "text/x-python",
   "name": "python",
   "nbconvert_exporter": "python",
   "pygments_lexer": "ipython3",
   "version": "3.9.4"
  }
 },
 "nbformat": 4,
 "nbformat_minor": 5
}
